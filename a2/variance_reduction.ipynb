{
 "cells": [
  {
   "cell_type": "markdown",
   "id": "ca08c512",
   "metadata": {},
   "source": [
    "#### Variance Reduction by Control Variates. \n",
    "\n",
    "For the control variates technique an accurate estimate of the value of an option that is similar to the one that you would like to price is required. \n",
    "\n",
    "For valuation of an Asian option based on arithmetic averages one can use the value of an Asian option based on geometric averages. \n",
    "\n",
    "This case can be solved analytically."
   ]
  },
  {
   "cell_type": "code",
   "execution_count": 18,
   "id": "f6b869a0",
   "metadata": {},
   "outputs": [],
   "source": [
    "#Imports\n",
    "\n",
    "import numpy as np\n",
    "import matplotlib.pyplot as plt\n",
    "from scipy.stats import norm,gmean\n",
    "np.random.seed(42)\n",
    "\n",
    "Φ = norm.cdf\n",
    "\n"
   ]
  },
  {
   "cell_type": "markdown",
   "id": "d2bd6b4a",
   "metadata": {},
   "source": [
    "#### Theoretical stuff:\n",
    "\n",
    "***Black-Scholes*** model describes the evolution of a stock price in the risk-neutral world through the stochastic differential equation (SDE)\n",
    "\n",
    "$$dS(t) = rS(t)dt + \\sigma S(t)dW (t) $$\n",
    "\n",
    "The solution of the equation above is:\n",
    "$$ S(T)=S(0)\\exp{\\big [r−\\frac{1}{2}\\sigma]T+\\sigma \\sqrt{TZ} \\big)} ,$$\n",
    "\n",
    "The payoff of an **Asian call** option based on geometric averages is given by:\n",
    "$$\\big(\\tilde{A}_N - K \\big)^{+} $$\n",
    "\n",
    "Where $$\\tilde{A}_N = \\Big( \\prod_{i=0}^{N}S \\big(\\frac{iT}{N} \\big) \\Big)^{\\frac{1}{N+1}} $$\n",
    "\n",
    "(Some long derivations that I skipped....)\n",
    "\n",
    "\n",
    "Hence, the price $C_{g}^{A}(S(0), T )$ can be obtained by the risk-neutral method\n",
    "\n",
    "$$ C_{g}^{A}(S(0), T ) = \\exp{(−rT)}\\big( S(0)\\exp{(\\tilde{r}T)}\\Phi(\\tilde{d}_1)−K\\Phi\\tilde{d}_1\\big)$$\n",
    "\n",
    "Where $$ \\tilde{r} = \\frac{[ r − \\frac{1}{2} \\sigma^2 ] + \\tilde{\\sigma}^2}{2} $$\n",
    "\n",
    "And $$ \\tilde{d}_1 = \\frac{\\log{\\frac{S(0)}{K}} + (\\tilde{r} + 0.5 \\tilde{\\sigma}^2)T}{\\sqrt{T}\\tilde{\\sigma}}$$\n",
    "$$ \\tilde{d}_2 = \\frac{\\log{\\frac{S(0)}{K}} + (\\tilde{r} - 0.5 \\tilde{\\sigma}^2)T}{\\sqrt{T}\\tilde{\\sigma}}$$"
   ]
  },
  {
   "cell_type": "code",
   "execution_count": 19,
   "id": "41ed1b52",
   "metadata": {},
   "outputs": [],
   "source": [
    "\n",
    "def geometric_mean(iterable):\n",
    "    xs = np.array(iterable)\n",
    "    \n",
    "    return np.exp(np.sum(np.log(xs))/xs.size)\n",
    "\n",
    "def bs_d1(t, T, St, K, r, σ):\n",
    "    τ = T - t\n",
    "    log_term = np.log(St/K)\n",
    "    σ_term = (r + 0.5 * σ**2)*τ\n",
    "    numerator = log_term + σ_term\n",
    "    denominator = σ*np.sqrt(τ)\n",
    "    return numerator / denominator\n",
    "\n",
    "def bs_d2(t, T, St, K, r, σ):\n",
    "    τ = T - t\n",
    "    return bs_d1(t, T, St, K, r, σ) - σ*np.sqrt(τ)\n",
    "\n",
    "def euro_call_valuation(t, T, St, K, r, σ):\n",
    "    τ = T - t\n",
    "    d1 = bs_d1(t, T, St, K, r, σ)\n",
    "    d2 = bs_d2(t, T, St, K, r, σ)\n",
    "    return St * Φ(d1) - np.exp(-r * τ) * K * Φ(d2)\n",
    "\n",
    "def asian_gm_valuation(S0, T, K, r, σ, N):\n",
    "    σa = σ * np.sqrt((2 * N + 1) / (6 * (N + 1)))\n",
    "    ra = 0.5 * ((r - 0.5 * σ**2) + σa**2)\n",
    "    return np.exp((ra - r) * T) * euro_call_valuation(0, T, S0, K, r, σ)\n",
    "\n",
    "def vanilla_call_payoff(S, K):\n",
    "    return max(S - K, 0)\n",
    "\n",
    "def asian_gm_call_payoff(Sts, K):\n",
    "    Ag = geometric_mean(Sts)\n",
    "    return vanilla_call_payoff(Ag, K)\n",
    "    "
   ]
  },
  {
   "cell_type": "code",
   "execution_count": 20,
   "id": "8f8b20f3",
   "metadata": {},
   "outputs": [],
   "source": [
    "def fst(xs):\n",
    "    return xs[0]\n",
    "\n",
    "def snd(xs):\n",
    "    return xs[1]\n",
    "\n",
    "def lst(xs):\n",
    "    return xs(-1)"
   ]
  },
  {
   "cell_type": "code",
   "execution_count": 29,
   "id": "918802f3",
   "metadata": {},
   "outputs": [],
   "source": [
    "np.random.seed(42)\n",
    "def euler_GBM(S0, T, M, r, σ):\n",
    "    δt = T / M\n",
    "    Sts = np.empty(M+1)\n",
    "    Sts[0] = S0\n",
    "    for m in range(M):\n",
    "        zm = np.random.normal(loc=0.0, scale=1.0)\n",
    "        Sts[m+1] = Sts[m] * (1.0 + r * δt + σ * np.sqrt(δt) * zm)\n",
    "    return Sts\n",
    "\n",
    "def euler_GBM_ensemble(S0, T, M, r, σ, nsim):\n",
    "    Stss = np.empty((nsim, M+1))\n",
    "    for i in range(nsim):\n",
    "        Stss[i] = euler_GBM(S0, T, M, r, σ)\n",
    "    return Stss\n",
    "\n",
    "def euler_GBM_asian_gm_payoffs(S0, T, M, r, σ, K, nsim):\n",
    "    Stss = euler_GBM_ensemble(S0, T, M, r, σ, nsim)\n",
    "    # payoffs = [1]*nsim\n",
    "   \n",
    "    payoffs = np.empty(nsim)\n",
    "    for i,Sts in enumerate(Stss):\n",
    "        payoffs[i] = asian_gm_call_payoff(Sts, K)\n",
    "    # for i in range(nsim):\n",
    "    #     payoffs[i] = asian_gm_call_payoff(Stss[i][0], K)\n",
    "    return payoffs\n",
    "\n",
    "def opt_value_empirical(payoffs, r, T):\n",
    "    payoff_expectation = np.mean(payoffs)\n",
    "    payoff_std = np.std(payoffs)\n",
    "    discount = np.exp(-r * T)\n",
    "    opt_value_estimate = payoff_expectation * discount\n",
    "    opt_value_estimate_std = payoff_std * discount\n",
    "    return opt_value_estimate, opt_value_estimate_std\n",
    "    \n",
    "def mc_asian_gm_valuation(S0, T, M, K, r, σ, nsim):\n",
    "    payoffs = euler_GBM_asian_gm_payoffs(S0, T, M, r, σ, K, nsim)\n",
    "\n",
    "    return opt_value_empirical(payoffs, r, T)"
   ]
  },
  {
   "cell_type": "code",
   "execution_count": 36,
   "id": "6f838a2d",
   "metadata": {},
   "outputs": [
    {
     "data": {
      "text/plain": [
       "11.165712012250578"
      ]
     },
     "execution_count": 36,
     "metadata": {},
     "output_type": "execute_result"
    }
   ],
   "source": [
    "nsim = 1000  # number of simulations\n",
    "S0 = 100.0  # initial stock price\n",
    "K = 99.0  # strike price\n",
    "σ = 0.2  # volatility\n",
    "r = 0.06  # risk-free interest rate\n",
    "T = 1.0  # time till maturity\n",
    "M = 365  # number of observations\n",
    "\n",
    "# theoretical call option value\n",
    "asian_gm_valuation(S0, T, K, r, σ, M)"
   ]
  },
  {
   "cell_type": "code",
   "execution_count": 23,
   "id": "ead70977",
   "metadata": {},
   "outputs": [],
   "source": [
    "var = euler_GBM_ensemble(S0, T, M, r, σ, nsim)\n"
   ]
  },
  {
   "cell_type": "code",
   "execution_count": 43,
   "id": "06b0a78a",
   "metadata": {},
   "outputs": [
    {
     "name": "stdout",
     "output_type": "stream",
     "text": [
      "(6.517366991843357, 8.11238914990104)\n"
     ]
    }
   ],
   "source": [
    "\n",
    "result = mc_asian_gm_valuation(S0, T, M, K, r, σ, nsim) \n",
    "print(result)\n"
   ]
  },
  {
   "cell_type": "code",
   "execution_count": null,
   "id": "c581eba1",
   "metadata": {},
   "outputs": [],
   "source": []
  }
 ],
 "metadata": {
  "kernelspec": {
   "display_name": "Python 3 (ipykernel)",
   "language": "python",
   "name": "python3"
  },
  "language_info": {
   "codemirror_mode": {
    "name": "ipython",
    "version": 3
   },
   "file_extension": ".py",
   "mimetype": "text/x-python",
   "name": "python",
   "nbconvert_exporter": "python",
   "pygments_lexer": "ipython3",
   "version": "3.8.12"
  }
 },
 "nbformat": 4,
 "nbformat_minor": 5
}
