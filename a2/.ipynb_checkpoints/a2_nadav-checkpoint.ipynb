{
 "cells": [
  {
   "cell_type": "code",
   "execution_count": 1,
   "metadata": {},
   "outputs": [
    {
     "name": "stdout",
     "output_type": "stream",
     "text": [
      "[   500.   5000.  50000. 500000.]\n"
     ]
    }
   ],
   "source": [
    "import pandas as pd\n",
    "import numpy as np\n",
    "import matplotlib.pyplot as plt\n",
    "import seaborn as sns\n",
    "from utils import black_scholes, MC_option_pricer, european_binomial_tree,MC_digital\n",
    "from scipy.stats import norm\n",
    "\n",
    "# Apply the default theme\n",
    "sns.set_theme()\n"
   ]
  },
  {
   "cell_type": "code",
   "execution_count": 2,
   "metadata": {},
   "outputs": [
    {
     "data": {
      "text/plain": [
       "array([1000, 2000, 3000, 4000, 5000])"
      ]
     },
     "execution_count": 2,
     "metadata": {},
     "output_type": "execute_result"
    }
   ],
   "source": [
    "\n",
    "stock_price_T0 = 100\n",
    "T = 1\n",
    "r = 0.06\n",
    "strike_price = 99\n",
    "#volatility\n",
    "sigma = 0.2\n",
    "#steps of the stock\n",
    "#steps = 10\n",
    "\n",
    "#different paths to see when it converges\n",
    "# n_paths = np.logspace(3,5,3).astype(int)\n",
    "n_paths = np.linspace(1000,5000,5).astype(int)\n",
    "\n",
    "\n",
    "n_paths\n"
   ]
  },
  {
   "cell_type": "code",
   "execution_count": 3,
   "metadata": {},
   "outputs": [
    {
     "name": "stdout",
     "output_type": "stream",
     "text": [
      "1000\n",
      "Stock price: 100.0\n",
      "Stock price: 100.2\n",
      "Stock price: 100.4\n",
      "Stock price: 100.6\n",
      "Stock price: 100.8\n",
      "2000\n",
      "Stock price: 100.0\n",
      "Stock price: 100.2\n",
      "Stock price: 100.4\n",
      "Stock price: 100.6\n",
      "Stock price: 100.8\n",
      "3000\n",
      "Stock price: 100.0\n",
      "Stock price: 100.2\n",
      "Stock price: 100.4\n",
      "Stock price: 100.6\n",
      "Stock price: 100.8\n",
      "4000\n",
      "Stock price: 100.0\n",
      "Stock price: 100.2\n",
      "Stock price: 100.4\n",
      "Stock price: 100.6\n",
      "Stock price: 100.8\n",
      "5000\n",
      "Stock price: 100.0\n",
      "Stock price: 100.2\n",
      "Stock price: 100.4\n",
      "Stock price: 100.6\n",
      "Stock price: 100.8\n"
     ]
    },
    {
     "data": {
      "text/plain": [
       "array([0.02825294, 0.02589852, 0.01883529, 0.01412647, 0.01648088,\n",
       "       0.01648088, 0.01491127, 0.01294926, 0.01569608, 0.01569608,\n",
       "       0.01517287, 0.01294926, 0.01412647, 0.01530367, 0.01608848,\n",
       "       0.01442077, 0.01130117, 0.01365559, 0.01444039, 0.01412647])"
      ]
     },
     "execution_count": 3,
     "metadata": {},
     "output_type": "execute_result"
    }
   ],
   "source": [
    "#same seeds for bumped and unbumped\n",
    "np.random.seed(42)\n",
    "\n",
    "\n",
    "# epsilons = np.arange(0,0.1,0.01)\n",
    "epsilons = np.arange(0,1,0.2)\n",
    "deltasMC_digital_likelihood = []\n",
    "price_P_MCs_digital = []\n",
    "d_digital = []\n",
    "pathwise_deltas = []\n",
    "      \n",
    "\n",
    "price_P_MCs = []\n",
    "for paths in n_paths:\n",
    "    print(paths)\n",
    "  \n",
    "    for epsilon in epsilons:\n",
    "        print('Stock price:', stock_price_T0 + epsilon)\n",
    "        price_P_MC = MC_digital.callMCPricer(stock_price_T0+epsilon,strike_price,sigma ,T,r,paths, seed = 'Yes')\n",
    "        # price_P_analytical = analyticalDigital(stock_price_T0+eps,strike_price,T,r,vol)[0]\n",
    "        #price_P_MC = MC_option_pricer_with_GBM.callMCPricer(stock_price_T0+epsilon,strike_price,sigma ,T,r,paths, steps, seed)\n",
    "        #print('MC option price: ', price_P_MC[0], 'standard error', price_P_MC[1])\n",
    "        price_P_MCs.append(price_P_MC[0])\n",
    "        d_digital.append(price_P_MC[2])\n",
    "        pathwise_deltas.append(price_P_MC[3])\n",
    "        #print(price_P_BS2[0])\n",
    "\n",
    "price_P_MCs=np.array(price_P_MCs)\n",
    "#print(price_P_MCs)\n",
    "price_P_MCs = np.reshape(price_P_MCs,(len(n_paths), len(epsilons)))\n",
    "\n",
    "\n",
    "deltasMC = np.array([])\n",
    "deltas_analytical = np.array([])\n",
    "\n",
    "for i in range(price_P_MCs.shape[0]):\n",
    "    for j in range(price_P_MCs.shape[1]-1):\n",
    "        delta_MC = (price_P_MCs[i][j+1]-price_P_MCs[i,0])/epsilons[j+1]\n",
    "        deltasMC= np.append(deltasMC,delta_MC)\n",
    "\n",
    "        # price_P_analytical = analyticalDigital(stock_price_T0+eps,strike_price,T,r,vol)\n",
    "        # delta_analytical = price_P_analytical[2]\n",
    "        # #print(j,'BS delta: ', delta_BS)\n",
    "        # deltas_analytical = np.append(deltas_analytical, delta_analytical)\n",
    "        \n",
    "\n",
    "deltasMC\n",
    "# d_digital"
   ]
  },
  {
   "cell_type": "code",
   "execution_count": 11,
   "metadata": {},
   "outputs": [
    {
     "data": {
      "text/plain": [
       "0.6748989730339142"
      ]
     },
     "execution_count": 11,
     "metadata": {},
     "output_type": "execute_result"
    }
   ],
   "source": [
    "# d_digital\n",
    "# price_P_MCs - price_P_analytical[0]\n",
    "\n",
    "price_P_MC = MC_digital.callMCPricer(stock_price_T0,strike_price,sigma ,T,r,paths=50000, seed = 'Yes')\n",
    "\n",
    "pathwise = price_P_MC[3]\n",
    "np.mean(pathwise)"
   ]
  },
  {
   "cell_type": "code",
   "execution_count": 33,
   "metadata": {},
   "outputs": [
    {
     "name": "stdout",
     "output_type": "stream",
     "text": [
      "(0.5639320297620052, 0.37783250382224354, 0.023389388631765935)\n"
     ]
    }
   ],
   "source": [
    "#Analytical\n",
    "\n",
    "\n",
    "np.random.seed(42)\n",
    "def analyticalDigital(stock_price_T0,strike_price,T,r,vol):\n",
    "    x = (np.log(strike_price/stock_price_T0) -(r-0.5*vol**2)*T)/(vol*np.sqrt(T))\n",
    "    call = np.exp(-r*T)*norm.cdf(-x)\n",
    "    put = np.exp(-r*T)*norm.cdf(x)\n",
    "    delta = (np.exp(-r*T)* np.random.normal(0,1))/(vol*stock_price_T0*np.sqrt(T))\n",
    "    return call, put,delta\n",
    "\n",
    "price_P_analytical = analyticalDigital(stock_price_T0,strike_price,T,r,sigma)\n",
    "\n",
    "delta_analytical = price_P_analytical[2]\n",
    "print(price_P_analytical)\n"
   ]
  },
  {
   "cell_type": "code",
   "execution_count": 34,
   "metadata": {},
   "outputs": [
    {
     "data": {
      "text/plain": [
       "array([[0.19470787, 0.19470787, 0.46313858, 0.3960309 , 0.51682472,\n",
       "        0.46313858, 0.53983307, 0.29536938, 0.37366167, 0.27523708,\n",
       "        0.34112462, 0.3960309 , 0.31859896, 0.36727047, 0.40945244,\n",
       "        0.3960309 , 0.38418837, 0.41840013, 0.44901065],\n",
       "       [0.43629551, 0.43629551, 0.40945244, 0.31550169, 0.40408382,\n",
       "        0.35576629, 0.35576629, 0.34570014, 0.32892322, 0.30744877,\n",
       "        0.31184127, 0.32221245, 0.31240441, 0.29249334, 0.31818599,\n",
       "        0.31046861, 0.32260721, 0.33339707, 0.33881277],\n",
       "       [0.32355461, 0.31550169, 0.33160753, 0.30543553, 0.28651117,\n",
       "        0.28194785, 0.27523708, 0.25611139, 0.271658  , 0.25591007,\n",
       "        0.26718416, 0.26248662, 0.2498394 , 0.24877748, 0.2526889 ,\n",
       "        0.25158162, 0.24870981, 0.25286785, 0.25192599]])"
      ]
     },
     "execution_count": 34,
     "metadata": {},
     "output_type": "execute_result"
    },
    {
     "data": {
      "image/png": "[encoded data removed]",
      "text/plain": [
       "<Figure size 432x288 with 1 Axes>"
      ]
     },
     "metadata": {},
     "output_type": "display_data"
    }
   ],
   "source": [
    "deltasMC_mean= np.mean(deltasMC)\n",
    "\n",
    "for i in range(len(deltasMC)):\n",
    "    if deltasMC[i] == 0:\n",
    "        deltasMC[i] = deltasMC_mean\n",
    "\n",
    "\n",
    "\n",
    "rel_err_dig= abs(deltasMC-delta_analytical)/delta_analytical\n",
    "\n",
    "rel_err_dig = np.array(rel_err_dig)\n",
    "rel_err_dig = np.reshape(rel_err_dig,(len(n_paths), len(epsilons)-1))\n",
    "\n",
    "\n",
    "plt.plot(epsilons[1:len(epsilons)],rel_err_dig[0],label='1000 paths')\n",
    "plt.plot(epsilons[1:len(epsilons)],rel_err_dig[1],label='10000 paths')\n",
    "plt.plot(epsilons[1:len(epsilons)],rel_err_dig[2], label='100000 paths')\n",
    "# plt.plot(epsilons[1:len(epsilons)],rel_err_dig[3], label='6000 paths')\n",
    "# plt.plot(epsilons[1:len(epsilons)],rel_err_dig[4],label='7000 paths')\n",
    "# plt.plot(epsilons[1:len(epsilons)],rel_err_dig[5],label='8000 paths')\n",
    "# plt.plot(epsilons[1:len(epsilons)],rel_err_dig[6], label='9000 paths')\n",
    "# plt.plot(epsilons[1:len(epsilons)],rel_err_dig[7], label='10000 paths')\n",
    "\n",
    "plt.title('Absolute error of the delta')\n",
    "plt.xlabel('Epsilon')\n",
    "plt.ylabel('Relative error')\n",
    "plt.legend()\n",
    "rel_err_dig"
   ]
  },
  {
   "cell_type": "code",
   "execution_count": 29,
   "metadata": {},
   "outputs": [
    {
     "data": {
      "text/plain": [
       "(20,)"
      ]
     },
     "execution_count": 29,
     "metadata": {},
     "output_type": "execute_result"
    }
   ],
   "source": []
  },
  {
   "cell_type": "code",
   "execution_count": null,
   "metadata": {},
   "outputs": [],
   "source": [
    "deltasMC = np.array([])\n",
    "\n",
    "for i in range(price_P_MCs.shape[0]):\n",
    "    sub_delta = []\n",
    "    for j in range(1,price_P_MCs.shape[1]):\n",
    "\n",
    "        delta_MC = (price_P_MCs[i][j]-price_P_MCs[i][0])/(epsilons[j])\n",
    "        sub_delta.append(delta_MC)\n",
    "    # print(sub_delta)\n",
    "    mean_delta = np.mean(sub_delta)\n",
    "\n",
    "\n",
    "    deltasMC= np.append(deltasMC,mean_delta)\n",
    "\n",
    "plt.scatter(n_paths,deltasMC)\n",
    "# deltasMC"
   ]
  },
  {
   "cell_type": "markdown",
   "metadata": {},
   "source": [
    "#### Likelihood method:\n",
    "\n",
    "$$ \\Delta = \\mathbb{E} [e^{-rT} 1_{S_T>K} \\frac{Z}{S_0 \\sigma \\sqrt{T}}] $$"
   ]
  },
  {
   "cell_type": "code",
   "execution_count": 41,
   "metadata": {},
   "outputs": [
    {
     "name": "stdout",
     "output_type": "stream",
     "text": [
      "0.023389388631765935 [0.01419736 0.01419736 0.01419736 0.01419736 0.01419736 0.01422075\n",
      " 0.01422075 0.01422075 0.01422075 0.01422075 0.01401726 0.01401726\n",
      " 0.01402194 0.01402662 0.01402662 0.01403363 0.01403597 0.01403831\n",
      " 0.01404065 0.01404299 0.01401235 0.01401562 0.0140196  0.01402264\n",
      " 0.01402708 0.014032   0.01403597 0.01403948 0.01404299 0.01404697]\n"
     ]
    }
   ],
   "source": [
    "# np.random.seed(42)\n",
    "keep_vals = price_P_MCs\n",
    "# price_P_MCs= price_P_MCs.flatten()\n",
    "\n",
    "for i in range(len(price_P_MCs.flatten())):\n",
    "    \n",
    "\n",
    "\n",
    "deltas =(np.random.normal(0,1))/((stock_price_T0)*sigma*np.sqrt(T))*price_P_MCs.flatten()\n",
    "print(delta_analytical, deltas)\n",
    "# price_P_MCs.flatten()\n",
    "\n",
    "\n",
    "# plt.plot(np.linspace(3000,20000,len(price_P_MCs.flatten())).astype(int),deltas, label = 'likelihood')\n",
    "# plt.plot(n_paths,deltasMC,label = 'regular way')\n",
    "# plt.axhline(np.mean(deltas), ls='--')\n",
    "# plt.legend()"
   ]
  },
  {
   "cell_type": "code",
   "execution_count": 42,
   "metadata": {},
   "outputs": [
    {
     "data": {
      "text/plain": [
       "array([0.57165107, 0.57165107, 0.57165107, 0.57165107, 0.57165107,\n",
       "       0.57259284, 0.57259284, 0.57259284, 0.57259284, 0.57259284,\n",
       "       0.56439948, 0.56439948, 0.56458784, 0.56477619, 0.56477619,\n",
       "       0.56505872, 0.5651529 , 0.56524707, 0.56534125, 0.56543543,\n",
       "       0.56420171, 0.56433356, 0.56449366, 0.56461609, 0.56479503,\n",
       "       0.5649928 , 0.5651529 , 0.56529416, 0.56543543, 0.56559553])"
      ]
     },
     "execution_count": 42,
     "metadata": {},
     "output_type": "execute_result"
    }
   ],
   "source": [
    "price_P_MCs.flatten()\n"
   ]
  },
  {
   "cell_type": "code",
   "execution_count": null,
   "metadata": {},
   "outputs": [],
   "source": [
    "np.random.seed(42)\n",
    "stock_price_T0 = 100\n",
    "T = 1\n",
    "r = 0.06\n",
    "strike_price = 99\n",
    "vol =0.2\n",
    "\n",
    "digitals = []\n",
    "for eps in epsilons:\n",
    "    sol = analyticalDigital(stock_price_T0+eps,strike_price,T,r,vol)\n",
    "    digitals.append(sol[0])\n",
    "    \n",
    "\n",
    "result = zip(epsilons,digitals)\n",
    "print(list(result))\n",
    "digital_delta_analytical = analyticalDigital(stock_price_T0,strike_price,T,r,vol)[2]\n",
    "print(f'delta is {digital_delta_analytical}')"
   ]
  },
  {
   "cell_type": "code",
   "execution_count": null,
   "metadata": {},
   "outputs": [],
   "source": [
    "plt.plot(np.linspace(3000,20000,len(price_P_MCs.flatten())).astype(int),deltas, label = 'likelihood')\n",
    "plt.plot(n_paths,deltasMC,label = 'regular way')\n",
    "plt.axhline(np.mean(deltas), ls='--', color = 'green')\n",
    "plt.axhline(digital_delta_analytical, ls='--', color = 'red', label = 'Analytical delta')\n",
    "plt.legend()"
   ]
  },
  {
   "cell_type": "markdown",
   "metadata": {},
   "source": [
    "#### Pathwise method:\n",
    "\n",
    "$$ \\Delta = \\mathbb{E} [e^{-rT} 1_{S_T>K} \\frac{S_T}{S_0}] $$"
   ]
  },
  {
   "cell_type": "code",
   "execution_count": 13,
   "metadata": {},
   "outputs": [
    {
     "data": {
      "text/plain": [
       "array([[0.59802048, 0.60367107, 0.60837989, 0.60932165, 0.60932165],\n",
       "       [0.57871431, 0.58201048, 0.58530666, 0.58766107, 0.58907372],\n",
       "       [0.57165107, 0.57479029, 0.5779295 , 0.5807548 , 0.58201048],\n",
       "       [0.56788401, 0.57070931, 0.57400548, 0.5775371 , 0.57942063],\n",
       "       [0.56750731, 0.56976754, 0.57296954, 0.57617154, 0.57880848]])"
      ]
     },
     "execution_count": 13,
     "metadata": {},
     "output_type": "execute_result"
    }
   ],
   "source": [
    "price_P_MCs"
   ]
  }
 ],
 "metadata": {
  "interpreter": {
   "hash": "f7ec9a7c2b0fd9ff1ec29775124bd049615416a7becdaca4b9812c5801bc9cc5"
  },
  "kernelspec": {
   "display_name": "Python 3 (ipykernel)",
   "language": "python",
   "name": "python3"
  },
  "language_info": {
   "codemirror_mode": {
    "name": "ipython",
    "version": 3
   },
   "file_extension": ".py",
   "mimetype": "text/x-python",
   "name": "python",
   "nbconvert_exporter": "python",
   "pygments_lexer": "ipython3",
   "version": "3.8.3"
  }
 },
 "nbformat": 4,
 "nbformat_minor": 2
}
