{
 "cells": [
  {
   "cell_type": "markdown",
   "metadata": {},
   "source": [
    "#### Variance Reduction by Control Variates. \n",
    "\n",
    "For the control variates technique an accurate estimate of the value of an option that is similar to the one that you would like to price is required. \n",
    "\n",
    "For valuation of an Asian option based on arithmetic averages one can use the value of an Asian option based on geometric averages. \n",
    "\n",
    "This case can be solved analytically."
   ]
  },
  {
   "cell_type": "markdown",
   "metadata": {},
   "source": []
  }
 ],
 "metadata": {
  "language_info": {
   "name": "python"
  },
  "orig_nbformat": 4
 },
 "nbformat": 4,
 "nbformat_minor": 2
}
