{
 "cells": [
  {
   "cell_type": "code",
   "execution_count": 6,
   "id": "6318ab0b",
   "metadata": {},
   "outputs": [],
   "source": [
    "from black_scholes import *\n",
    "import matplotlib.pyplot as plt"
   ]
  },
  {
   "cell_type": "code",
   "execution_count": 8,
   "id": "b202c9ff",
   "metadata": {},
   "outputs": [],
   "source": [
    "M, S0, T, r, sigma = 100, 50.0, 1.0, 0.05, 0.2\n",
    "args = (M, S0, T, r, sigma)\n",
    "\n",
    "sample_size = 1000\n",
    "run_sim = lambda method, args, sample_size: np.array([method(*args) for _ in range(sample_size)])\n",
    "euler_samples = run_sim(euler_GBM, args, sample_size)\n",
    "exact_samples = run_sim(exact_GBM, args, sample_size)\n",
    "\n",
    "euler_sample_means = np.mean(euler_samples, axis=0)\n",
    "exact_sample_means = np.mean(exact_samples, axis=0)"
   ]
  },
  {
   "cell_type": "code",
   "execution_count": 7,
   "id": "22d444a4",
   "metadata": {},
   "outputs": [],
   "source": [
    "t = np.linspace(0, T, M+1)\n",
    "plt.plot(t, euler_sample_means, label=\"Euler\")\n",
    "plt.plot(t, exact_sample_means, label=\"exact\")\n",
    "plt.legend()\n",
    "plt.show()"
   ]
  },
  {
   "cell_type": "code",
   "execution_count": null,
   "id": "62861420",
   "metadata": {},
   "outputs": [],
   "source": []
  }
 ],
 "metadata": {
  "kernelspec": {
   "display_name": "Python 3 (ipykernel)",
   "language": "python",
   "name": "python3"
  },
  "language_info": {
   "codemirror_mode": {
    "name": "ipython",
    "version": 3
   },
   "file_extension": ".py",
   "mimetype": "text/x-python",
   "name": "python",
   "nbconvert_exporter": "python",
   "pygments_lexer": "ipython3",
   "version": "3.8.5"
  }
 },
 "nbformat": 4,
 "nbformat_minor": 5
}
