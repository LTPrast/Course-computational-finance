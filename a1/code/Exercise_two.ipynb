{
 "cells": [
  {
   "cell_type": "code",
   "execution_count": 1,
   "metadata": {},
   "outputs": [],
   "source": [
    "import sys\n",
    "sys.path.insert(0, '/utils/')\n",
    "import pandas as pd\n",
    "import numpy as np\n",
    "import matplotlib.pyplot as plt\n",
    "import seaborn as sns\n",
    "\n",
    "# Apply the default theme\n",
    "sns.set_theme()\n",
    "\n",
    "\n",
    "from utils import black_scholes, american_binomial_tree,european_binomial_tree\n"
   ]
  },
  {
   "cell_type": "markdown",
   "metadata": {},
   "source": [
    "### European"
   ]
  },
  {
   "cell_type": "code",
   "execution_count": 2,
   "metadata": {},
   "outputs": [
    {
     "name": "stdout",
     "output_type": "stream",
     "text": [
      "11.546434850755071\n"
     ]
    }
   ],
   "source": [
    "\n",
    "sigma = 0.2\n",
    "stock_price_T0 = 100\n",
    "T = 1\n",
    "N = 50\n",
    "strike_price = 99\n",
    "r = 0.06\n",
    "option_type = \"Call\" # \"Call\"\n",
    "\n",
    "tree = european_binomial_tree.buildTree(stock_price_T0, sigma, T, N)\n",
    "# print(tree)\n",
    "option_worth=european_binomial_tree.valueEuropeanOptionMatrix(tree, T, r, strike_price,N, sigma, option_type)\n",
    "# print(option_worth)\n",
    "print(option_worth[0][0])\n",
    "\n",
    "\n"
   ]
  },
  {
   "cell_type": "markdown",
   "metadata": {},
   "source": [
    "##### 2. \n",
    "Investigate how your binomial tree estimate compares to the analytical Black-Scholes value of the option. Do experiments for different values of the volatility. The Black-Scholes formula for European option prices is treated in appendix C: please read that carefully."
   ]
  },
  {
   "cell_type": "code",
   "execution_count": 3,
   "metadata": {},
   "outputs": [
    {
     "name": "stdout",
     "output_type": "stream",
     "text": [
      "11.544280227051097\n"
     ]
    }
   ],
   "source": [
    "\n",
    "\n",
    "black_scholes_values = black_scholes.callBlackScholes(stock_price_T0,T,r,strike_price,sigma)\n",
    "print(black_scholes_values[0])"
   ]
  },
  {
   "cell_type": "markdown",
   "metadata": {},
   "source": [
    "Repeated for various values of volatility:"
   ]
  },
  {
   "cell_type": "code",
   "execution_count": 44,
   "metadata": {},
   "outputs": [
    {
     "data": {
      "text/html": [
       "<div>\n",
       "<style scoped>\n",
       "    .dataframe tbody tr th:only-of-type {\n",
       "        vertical-align: middle;\n",
       "    }\n",
       "\n",
       "    .dataframe tbody tr th {\n",
       "        vertical-align: top;\n",
       "    }\n",
       "\n",
       "    .dataframe thead th {\n",
       "        text-align: right;\n",
       "    }\n",
       "</style>\n",
       "<table border=\"1\" class=\"dataframe\">\n",
       "  <thead>\n",
       "    <tr style=\"text-align: right;\">\n",
       "      <th></th>\n",
       "      <th>Binomial</th>\n",
       "      <th>Black Scholes</th>\n",
       "      <th>Difference</th>\n",
       "    </tr>\n",
       "    <tr>\n",
       "      <th>Volatility</th>\n",
       "      <th></th>\n",
       "      <th></th>\n",
       "      <th></th>\n",
       "    </tr>\n",
       "  </thead>\n",
       "  <tbody>\n",
       "    <tr>\n",
       "      <th>0.010000</th>\n",
       "      <td>6.765311</td>\n",
       "      <td>6.765311</td>\n",
       "      <td>3.916867e-13</td>\n",
       "    </tr>\n",
       "    <tr>\n",
       "      <th>0.022048</th>\n",
       "      <td>6.765599</td>\n",
       "      <td>6.765740</td>\n",
       "      <td>1.415148e-04</td>\n",
       "    </tr>\n",
       "    <tr>\n",
       "      <th>0.034096</th>\n",
       "      <td>6.786707</td>\n",
       "      <td>6.789436</td>\n",
       "      <td>2.728766e-03</td>\n",
       "    </tr>\n",
       "    <tr>\n",
       "      <th>0.046145</th>\n",
       "      <td>6.887759</td>\n",
       "      <td>6.890584</td>\n",
       "      <td>2.825072e-03</td>\n",
       "    </tr>\n",
       "    <tr>\n",
       "      <th>0.058193</th>\n",
       "      <td>7.077926</td>\n",
       "      <td>7.078035</td>\n",
       "      <td>1.091895e-04</td>\n",
       "    </tr>\n",
       "    <tr>\n",
       "      <th>0.070241</th>\n",
       "      <td>7.335863</td>\n",
       "      <td>7.333089</td>\n",
       "      <td>-2.774151e-03</td>\n",
       "    </tr>\n",
       "    <tr>\n",
       "      <th>0.082289</th>\n",
       "      <td>7.641728</td>\n",
       "      <td>7.636674</td>\n",
       "      <td>-5.053438e-03</td>\n",
       "    </tr>\n",
       "    <tr>\n",
       "      <th>0.094337</th>\n",
       "      <td>7.981395</td>\n",
       "      <td>7.974793</td>\n",
       "      <td>-6.602127e-03</td>\n",
       "    </tr>\n",
       "    <tr>\n",
       "      <th>0.106386</th>\n",
       "      <td>8.345334</td>\n",
       "      <td>8.337841</td>\n",
       "      <td>-7.493599e-03</td>\n",
       "    </tr>\n",
       "    <tr>\n",
       "      <th>0.118434</th>\n",
       "      <td>8.727095</td>\n",
       "      <td>8.719253</td>\n",
       "      <td>-7.841666e-03</td>\n",
       "    </tr>\n",
       "    <tr>\n",
       "      <th>0.130482</th>\n",
       "      <td>9.122230</td>\n",
       "      <td>9.114477</td>\n",
       "      <td>-7.752446e-03</td>\n",
       "    </tr>\n",
       "    <tr>\n",
       "      <th>0.142530</th>\n",
       "      <td>9.527601</td>\n",
       "      <td>9.520288</td>\n",
       "      <td>-7.313362e-03</td>\n",
       "    </tr>\n",
       "    <tr>\n",
       "      <th>0.154578</th>\n",
       "      <td>9.940942</td>\n",
       "      <td>9.934348</td>\n",
       "      <td>-6.593473e-03</td>\n",
       "    </tr>\n",
       "    <tr>\n",
       "      <th>0.166627</th>\n",
       "      <td>10.360580</td>\n",
       "      <td>10.354933</td>\n",
       "      <td>-5.646616e-03</td>\n",
       "    </tr>\n",
       "    <tr>\n",
       "      <th>0.178675</th>\n",
       "      <td>10.785256</td>\n",
       "      <td>10.780741</td>\n",
       "      <td>-4.514725e-03</td>\n",
       "    </tr>\n",
       "    <tr>\n",
       "      <th>0.190723</th>\n",
       "      <td>11.214004</td>\n",
       "      <td>11.210773</td>\n",
       "      <td>-3.230621e-03</td>\n",
       "    </tr>\n",
       "    <tr>\n",
       "      <th>0.202771</th>\n",
       "      <td>11.646071</td>\n",
       "      <td>11.644251</td>\n",
       "      <td>-1.820185e-03</td>\n",
       "    </tr>\n",
       "    <tr>\n",
       "      <th>0.214819</th>\n",
       "      <td>12.080861</td>\n",
       "      <td>12.080557</td>\n",
       "      <td>-3.040031e-04</td>\n",
       "    </tr>\n",
       "    <tr>\n",
       "      <th>0.226867</th>\n",
       "      <td>12.517897</td>\n",
       "      <td>12.519198</td>\n",
       "      <td>1.301403e-03</td>\n",
       "    </tr>\n",
       "    <tr>\n",
       "      <th>0.238916</th>\n",
       "      <td>12.956788</td>\n",
       "      <td>12.959770</td>\n",
       "      <td>2.982655e-03</td>\n",
       "    </tr>\n",
       "  </tbody>\n",
       "</table>\n",
       "</div>"
      ],
      "text/plain": [
       "             Binomial  Black Scholes    Difference\n",
       "Volatility                                        \n",
       "0.010000     6.765311       6.765311  3.916867e-13\n",
       "0.022048     6.765599       6.765740  1.415148e-04\n",
       "0.034096     6.786707       6.789436  2.728766e-03\n",
       "0.046145     6.887759       6.890584  2.825072e-03\n",
       "0.058193     7.077926       7.078035  1.091895e-04\n",
       "0.070241     7.335863       7.333089 -2.774151e-03\n",
       "0.082289     7.641728       7.636674 -5.053438e-03\n",
       "0.094337     7.981395       7.974793 -6.602127e-03\n",
       "0.106386     8.345334       8.337841 -7.493599e-03\n",
       "0.118434     8.727095       8.719253 -7.841666e-03\n",
       "0.130482     9.122230       9.114477 -7.752446e-03\n",
       "0.142530     9.527601       9.520288 -7.313362e-03\n",
       "0.154578     9.940942       9.934348 -6.593473e-03\n",
       "0.166627    10.360580      10.354933 -5.646616e-03\n",
       "0.178675    10.785256      10.780741 -4.514725e-03\n",
       "0.190723    11.214004      11.210773 -3.230621e-03\n",
       "0.202771    11.646071      11.644251 -1.820185e-03\n",
       "0.214819    12.080861      12.080557 -3.040031e-04\n",
       "0.226867    12.517897      12.519198  1.301403e-03\n",
       "0.238916    12.956788      12.959770  2.982655e-03"
      ]
     },
     "execution_count": 44,
     "metadata": {},
     "output_type": "execute_result"
    }
   ],
   "source": [
    "sigmas = np.linspace(0.01,3.01,250)\n",
    "\n",
    "\n",
    "bs_list,binomial_list,deltas_binomial,deltas_black_scholes  = [],[],[],[]\n",
    "\n",
    "\n",
    "for value in sigmas:\n",
    "\n",
    "#    Call functions for each value of volatility\n",
    "\n",
    "    values_bs = black_scholes.callBlackScholes(stock_price_T0,T,r,strike_price,value)\n",
    "    tree = european_binomial_tree.buildTree(stock_price_T0, value, T, N)\n",
    "    val_bin=european_binomial_tree.valueEuropeanOptionMatrix(tree, T, r, strike_price,N, value, option_type)\n",
    "\n",
    "    #Append values for call prices \n",
    "    bs_list.append(values_bs[0])\n",
    "    binomial_list.append(val_bin[0][0])\n",
    "\n",
    "    #Calculate and append Delta values\n",
    "    \n",
    "    delta_binomial = (val_bin[1][1]-val_bin[1][0])/(tree[1][1]-tree[1][0])\n",
    "    delta_black_scholes = values_bs[1]\n",
    "    deltas_binomial.append(delta_binomial)\n",
    "    deltas_black_scholes.append(delta_black_scholes)\n",
    "    \n",
    "    #Remove variables\n",
    "    del val_bin,values_bs,tree, delta_binomial, delta_black_scholes\n",
    "\n",
    "results = {'Binomial' : binomial_list, 'Black Scholes': bs_list}\n",
    "df = pd.DataFrame(results,index = sigmas )\n",
    "df.index.name = 'Volatility'\n",
    "df['Difference'] = df['Black Scholes']-df['Binomial'] \n",
    "\n",
    "\n",
    "deltas = {'Binomial Delta' : deltas_binomial , 'Black Scholes Delta': deltas_black_scholes}\n",
    "df_deltas = pd.DataFrame(deltas,index = sigmas )\n",
    "df_deltas.index.name = 'Volatility'\n",
    "\n",
    "\n",
    "df.head(20)"
   ]
  },
  {
   "cell_type": "code",
   "execution_count": 34,
   "metadata": {},
   "outputs": [
    {
     "data": {
      "text/plain": [
       "Text(0.5, 0.98, 'Comparison between Black Scholes and Binomial tree for different volatilities')"
      ]
     },
     "execution_count": 34,
     "metadata": {},
     "output_type": "execute_result"
    },
    {
     "data": {
      "image/png": "[encoded data removed]",
      "text/plain": [
       "<Figure size 1080x360 with 2 Axes>"
      ]
     },
     "metadata": {},
     "output_type": "display_data"
    }
   ],
   "source": [
    "\n",
    "fig, axes = plt.subplots(1, 2,figsize=(15,5))\n",
    "\n",
    "sns.lineplot(x = 'Volatility', y = 'Black Scholes',data = df, label = 'Black Scholes', ax = axes[0])\n",
    "sns.lineplot(x= 'Volatility', y = 'Binomial',data = df,  label = ' Binomial', ax = axes[0])\n",
    "\n",
    "\n",
    "\n",
    "sns.lineplot(x = 'Volatility', y = 'Difference',data = df , ax = axes[1])\n",
    "\n",
    "axes[0].set_title(\"Black Scholes/Binomial\")\n",
    "axes[0].set_ylabel('Option Price')\n",
    "\n",
    "axes[1].set_title(\"Difference\")\n",
    "plt.suptitle(\"Comparison between Black Scholes and Binomial tree for different volatilities\")"
   ]
  },
  {
   "cell_type": "code",
   "execution_count": 8,
   "metadata": {},
   "outputs": [
    {
     "data": {
      "text/html": [
       "<div>\n",
       "<style scoped>\n",
       "    .dataframe tbody tr th:only-of-type {\n",
       "        vertical-align: middle;\n",
       "    }\n",
       "\n",
       "    .dataframe tbody tr th {\n",
       "        vertical-align: top;\n",
       "    }\n",
       "\n",
       "    .dataframe thead th {\n",
       "        text-align: right;\n",
       "    }\n",
       "</style>\n",
       "<table border=\"1\" class=\"dataframe\">\n",
       "  <thead>\n",
       "    <tr style=\"text-align: right;\">\n",
       "      <th>Number of steps</th>\n",
       "      <th>1</th>\n",
       "      <th>2</th>\n",
       "      <th>3</th>\n",
       "      <th>4</th>\n",
       "      <th>5</th>\n",
       "      <th>6</th>\n",
       "      <th>7</th>\n",
       "      <th>8</th>\n",
       "      <th>9</th>\n",
       "      <th>10</th>\n",
       "      <th>...</th>\n",
       "      <th>290</th>\n",
       "      <th>291</th>\n",
       "      <th>292</th>\n",
       "      <th>293</th>\n",
       "      <th>294</th>\n",
       "      <th>295</th>\n",
       "      <th>296</th>\n",
       "      <th>297</th>\n",
       "      <th>298</th>\n",
       "      <th>299</th>\n",
       "    </tr>\n",
       "  </thead>\n",
       "  <tbody>\n",
       "    <tr>\n",
       "      <th>Binomial option</th>\n",
       "      <td>13.156935</td>\n",
       "      <td>10.842582</td>\n",
       "      <td>12.105041</td>\n",
       "      <td>11.221167</td>\n",
       "      <td>11.877161</td>\n",
       "      <td>11.349620</td>\n",
       "      <td>11.779019</td>\n",
       "      <td>11.412268</td>\n",
       "      <td>11.724538</td>\n",
       "      <td>11.448655</td>\n",
       "      <td>...</td>\n",
       "      <td>11.549691</td>\n",
       "      <td>11.540889</td>\n",
       "      <td>11.549665</td>\n",
       "      <td>11.54085</td>\n",
       "      <td>11.549639</td>\n",
       "      <td>11.540811</td>\n",
       "      <td>11.549613</td>\n",
       "      <td>11.540772</td>\n",
       "      <td>11.549588</td>\n",
       "      <td>11.540734</td>\n",
       "    </tr>\n",
       "    <tr>\n",
       "      <th>Black Scholes</th>\n",
       "      <td>11.544280</td>\n",
       "      <td>11.544280</td>\n",
       "      <td>11.544280</td>\n",
       "      <td>11.544280</td>\n",
       "      <td>11.544280</td>\n",
       "      <td>11.544280</td>\n",
       "      <td>11.544280</td>\n",
       "      <td>11.544280</td>\n",
       "      <td>11.544280</td>\n",
       "      <td>11.544280</td>\n",
       "      <td>...</td>\n",
       "      <td>11.544280</td>\n",
       "      <td>11.544280</td>\n",
       "      <td>11.544280</td>\n",
       "      <td>11.54428</td>\n",
       "      <td>11.544280</td>\n",
       "      <td>11.544280</td>\n",
       "      <td>11.544280</td>\n",
       "      <td>11.544280</td>\n",
       "      <td>11.544280</td>\n",
       "      <td>11.544280</td>\n",
       "    </tr>\n",
       "    <tr>\n",
       "      <th>Difference</th>\n",
       "      <td>1.612655</td>\n",
       "      <td>-0.701698</td>\n",
       "      <td>0.560761</td>\n",
       "      <td>-0.323113</td>\n",
       "      <td>0.332881</td>\n",
       "      <td>-0.194661</td>\n",
       "      <td>0.234739</td>\n",
       "      <td>-0.132012</td>\n",
       "      <td>0.180257</td>\n",
       "      <td>-0.095625</td>\n",
       "      <td>...</td>\n",
       "      <td>0.005411</td>\n",
       "      <td>-0.003391</td>\n",
       "      <td>0.005385</td>\n",
       "      <td>-0.00343</td>\n",
       "      <td>0.005359</td>\n",
       "      <td>-0.003470</td>\n",
       "      <td>0.005333</td>\n",
       "      <td>-0.003508</td>\n",
       "      <td>0.005307</td>\n",
       "      <td>-0.003546</td>\n",
       "    </tr>\n",
       "  </tbody>\n",
       "</table>\n",
       "<p>3 rows × 299 columns</p>\n",
       "</div>"
      ],
      "text/plain": [
       "Number of steps        1          2          3          4          5    \\\n",
       "Binomial option  13.156935  10.842582  12.105041  11.221167  11.877161   \n",
       "Black Scholes    11.544280  11.544280  11.544280  11.544280  11.544280   \n",
       "Difference        1.612655  -0.701698   0.560761  -0.323113   0.332881   \n",
       "\n",
       "Number of steps        6          7          8          9          10   ...  \\\n",
       "Binomial option  11.349620  11.779019  11.412268  11.724538  11.448655  ...   \n",
       "Black Scholes    11.544280  11.544280  11.544280  11.544280  11.544280  ...   \n",
       "Difference       -0.194661   0.234739  -0.132012   0.180257  -0.095625  ...   \n",
       "\n",
       "Number of steps        290        291        292       293        294  \\\n",
       "Binomial option  11.549691  11.540889  11.549665  11.54085  11.549639   \n",
       "Black Scholes    11.544280  11.544280  11.544280  11.54428  11.544280   \n",
       "Difference        0.005411  -0.003391   0.005385  -0.00343   0.005359   \n",
       "\n",
       "Number of steps        295        296        297        298        299  \n",
       "Binomial option  11.540811  11.549613  11.540772  11.549588  11.540734  \n",
       "Black Scholes    11.544280  11.544280  11.544280  11.544280  11.544280  \n",
       "Difference       -0.003470   0.005333  -0.003508   0.005307  -0.003546  \n",
       "\n",
       "[3 rows x 299 columns]"
      ]
     },
     "execution_count": 8,
     "metadata": {},
     "output_type": "execute_result"
    },
    {
     "data": {
      "image/png": "[encoded data removed]",
      "text/plain": [
       "<Figure size 432x288 with 1 Axes>"
      ]
     },
     "metadata": {
      "needs_background": "light"
     },
     "output_type": "display_data"
    }
   ],
   "source": [
    "#Convergance for varying step sizes\n",
    "\n",
    "steps = np.arange(1,300,1)\n",
    "steps\n",
    "sigma =0.2\n",
    "stock_price_T0 = 100\n",
    "T = 1\n",
    "strike_price = 99\n",
    "r = 0.06\n",
    "\n",
    "results_2 = {}\n",
    "val_binomial =[]\n",
    "\n",
    "for step in steps:\n",
    "    tree = european_binomial_tree.buildTree(stock_price_T0, sigma, T, step)\n",
    "    val_bin=european_binomial_tree.valueEuropeanOptionMatrix(tree, T, r, strike_price,step, sigma, option_type)\n",
    "    val_binomial.append(val_bin[0][0])\n",
    "    del tree, val_bin\n",
    "# print(val_binomial)\n",
    "data = {'Binomial option': val_binomial}\n",
    "df_conv = pd.DataFrame(data, index = steps)\n",
    "df_conv.index.name = 'Number of steps'\n",
    "\n",
    "df_conv['Black Scholes'] = black_scholes_values[0]\n",
    "df_conv['Difference'] = df_conv['Binomial option'] - black_scholes_values[0]\n",
    "\n",
    "\n",
    "plt.plot(steps, val_binomial)\n",
    "plt.plot(steps, black_scholes_values[0]*np.ones(len(val_binomial)))\n",
    "df_conv.T\n"
   ]
  },
  {
   "cell_type": "code",
   "execution_count": 11,
   "metadata": {},
   "outputs": [
    {
     "name": "stderr",
     "output_type": "stream",
     "text": [
      "No handles with labels found to put in legend.\n"
     ]
    },
    {
     "data": {
      "image/png": "[encoded data removed]",
      "text/plain": [
       "<Figure size 432x288 with 1 Axes>"
      ]
     },
     "metadata": {
      "needs_background": "light"
     },
     "output_type": "display_data"
    }
   ],
   "source": [
    "# Calculating convergence rate with linear convergence formula\n",
    "\n",
    "convergance =[]\n",
    "for i in range(2,len(val_binomial)):\n",
    "    conv = abs(val_binomial[i] - val_binomial[i-1] )/(abs(val_binomial[i-1] - val_binomial[i-2] ))**1\n",
    "    convergance.append(conv)\n",
    "\n",
    "\n",
    "# print(convergance)\n",
    "plt.plot(steps[2:],convergance)\n",
    "plt.plot(steps[2:], np.ones(len(steps)-2))\n",
    "plt.xlabel('Steps')\n",
    "plt.ylabel('Convergence rate')\n",
    "plt.legend()\n",
    "plt.title('Convergence rate Binomial tree for different Steps')\n",
    "\n",
    "#print(convergance)\n",
    "\n",
    "# Estimating order of convergence?\n",
    "\n",
    "qs = []\n",
    "for i in range(3,len(val_binomial)):\n",
    "    q = np.log(abs((val_binomial[i] - val_binomial[i-1] )/(val_binomial[i-1] - val_binomial[i-2] )))/np.log(abs((val_binomial[i-1] - val_binomial[i-2] )/(val_binomial[i-2] - val_binomial[i-3])))\n",
    "    qs.append(q)\n",
    "\n",
    "# print(qs)\n",
    "\n",
    "\n"
   ]
  },
  {
   "cell_type": "code",
   "execution_count": 15,
   "metadata": {},
   "outputs": [
    {
     "name": "stderr",
     "output_type": "stream",
     "text": [
      "No handles with labels found to put in legend.\n"
     ]
    },
    {
     "data": {
      "image/png": "[encoded data removed]",
      "text/plain": [
       "<Figure size 432x288 with 1 Axes>"
      ]
     },
     "metadata": {
      "needs_background": "light"
     },
     "output_type": "display_data"
    }
   ],
   "source": [
    "# Calculating convergence rate with difference between binomial and black scholes\n",
    "\n",
    "convergance =[]\n",
    "for i in range(2,len(val_binomial)):\n",
    "    conv = abs(val_binomial[i] - black_scholes_values[0] )\n",
    "    convergance.append(conv)\n",
    "\n",
    "\n",
    "# print(convergance)\n",
    "plt.plot(steps[2:],convergance)\n",
    "#plt.plot(steps[2:], np.ones(len(steps)-2))\n",
    "plt.xlabel('Steps')\n",
    "plt.ylabel('Convergence rate')\n",
    "plt.legend()\n",
    "plt.title('Convergence rate Binomial tree for different steps')\n",
    "\n",
    "#print(convergance)\n",
    "\n",
    "# Estimating order of convergence?\n",
    "\n",
    "qs = []\n",
    "for i in range(3,len(val_binomial)):\n",
    "    q = np.log(abs((val_binomial[i] - val_binomial[i-1] )/(val_binomial[i-1] - val_binomial[i-2] )))/np.log(abs((val_binomial[i-1] - val_binomial[i-2] )/(val_binomial[i-2] - val_binomial[i-3])))\n",
    "    qs.append(q)\n",
    "\n",
    "# print(qs)\n",
    "\n"
   ]
  },
  {
   "cell_type": "markdown",
   "metadata": {},
   "source": [
    "#### Calculate Delta?"
   ]
  },
  {
   "cell_type": "code",
   "execution_count": 45,
   "metadata": {},
   "outputs": [
    {
     "name": "stdout",
     "output_type": "stream",
     "text": [
      "0.67115162955619 0.6737355117348961\n"
     ]
    }
   ],
   "source": [
    "# For volatility = 0.2:\n",
    "sigma = 0.2\n",
    "stock_price_T0 = 100\n",
    "T = 1\n",
    "N = 25\n",
    "strike_price = 99\n",
    "r = 0.06\n",
    "\n",
    "# del values_bs,tree,val_bin\n",
    "values_bs = black_scholes.callBlackScholes(stock_price_T0,T,r,strike_price,sigma)\n",
    "tree = european_binomial_tree.buildTree(stock_price_T0, sigma, T, N)\n",
    "val_bin=european_binomial_tree.valueEuropeanOptionMatrix(tree, T, r, strike_price,N, sigma, option_type)\n",
    "\n",
    "#Calculate and append Delta values\n",
    "\n",
    "delta_binomial = (val_bin[1][1]-val_bin[1][0])/(tree[1][1]-tree[1][0])\n",
    "delta_black_scholes = values_bs[1]\n",
    "\n",
    "print(delta_binomial, delta_black_scholes)\n",
    "\n"
   ]
  },
  {
   "cell_type": "code",
   "execution_count": 46,
   "metadata": {},
   "outputs": [
    {
     "data": {
      "text/html": [
       "<div>\n",
       "<style scoped>\n",
       "    .dataframe tbody tr th:only-of-type {\n",
       "        vertical-align: middle;\n",
       "    }\n",
       "\n",
       "    .dataframe tbody tr th {\n",
       "        vertical-align: top;\n",
       "    }\n",
       "\n",
       "    .dataframe thead th {\n",
       "        text-align: right;\n",
       "    }\n",
       "</style>\n",
       "<table border=\"1\" class=\"dataframe\">\n",
       "  <thead>\n",
       "    <tr style=\"text-align: right;\">\n",
       "      <th></th>\n",
       "      <th>Binomial Delta</th>\n",
       "      <th>Black Scholes Delta</th>\n",
       "      <th>Difference</th>\n",
       "    </tr>\n",
       "    <tr>\n",
       "      <th>Volatility</th>\n",
       "      <th></th>\n",
       "      <th></th>\n",
       "      <th></th>\n",
       "    </tr>\n",
       "  </thead>\n",
       "  <tbody>\n",
       "    <tr>\n",
       "      <th>0.010000</th>\n",
       "      <td>1.000000</td>\n",
       "      <td>1.000000</td>\n",
       "      <td>1.184941e-12</td>\n",
       "    </tr>\n",
       "    <tr>\n",
       "      <th>0.022048</th>\n",
       "      <td>0.999442</td>\n",
       "      <td>0.999284</td>\n",
       "      <td>1.580817e-04</td>\n",
       "    </tr>\n",
       "    <tr>\n",
       "      <th>0.034096</th>\n",
       "      <td>0.981754</td>\n",
       "      <td>0.980845</td>\n",
       "      <td>9.088412e-04</td>\n",
       "    </tr>\n",
       "    <tr>\n",
       "      <th>0.046145</th>\n",
       "      <td>0.937809</td>\n",
       "      <td>0.938358</td>\n",
       "      <td>-5.486692e-04</td>\n",
       "    </tr>\n",
       "    <tr>\n",
       "      <th>0.058193</th>\n",
       "      <td>0.889386</td>\n",
       "      <td>0.891186</td>\n",
       "      <td>-1.799535e-03</td>\n",
       "    </tr>\n",
       "    <tr>\n",
       "      <th>...</th>\n",
       "      <td>...</td>\n",
       "      <td>...</td>\n",
       "      <td>...</td>\n",
       "    </tr>\n",
       "    <tr>\n",
       "      <th>2.961807</th>\n",
       "      <td>0.932217</td>\n",
       "      <td>0.933781</td>\n",
       "      <td>-1.563533e-03</td>\n",
       "    </tr>\n",
       "    <tr>\n",
       "      <th>2.973855</th>\n",
       "      <td>0.932978</td>\n",
       "      <td>0.934540</td>\n",
       "      <td>-1.561849e-03</td>\n",
       "    </tr>\n",
       "    <tr>\n",
       "      <th>2.985904</th>\n",
       "      <td>0.933732</td>\n",
       "      <td>0.935292</td>\n",
       "      <td>-1.560084e-03</td>\n",
       "    </tr>\n",
       "    <tr>\n",
       "      <th>2.997952</th>\n",
       "      <td>0.934480</td>\n",
       "      <td>0.936038</td>\n",
       "      <td>-1.558241e-03</td>\n",
       "    </tr>\n",
       "    <tr>\n",
       "      <th>3.010000</th>\n",
       "      <td>0.935221</td>\n",
       "      <td>0.936778</td>\n",
       "      <td>-1.556318e-03</td>\n",
       "    </tr>\n",
       "  </tbody>\n",
       "</table>\n",
       "<p>250 rows × 3 columns</p>\n",
       "</div>"
      ],
      "text/plain": [
       "            Binomial Delta  Black Scholes Delta    Difference\n",
       "Volatility                                                   \n",
       "0.010000          1.000000             1.000000  1.184941e-12\n",
       "0.022048          0.999442             0.999284  1.580817e-04\n",
       "0.034096          0.981754             0.980845  9.088412e-04\n",
       "0.046145          0.937809             0.938358 -5.486692e-04\n",
       "0.058193          0.889386             0.891186 -1.799535e-03\n",
       "...                    ...                  ...           ...\n",
       "2.961807          0.932217             0.933781 -1.563533e-03\n",
       "2.973855          0.932978             0.934540 -1.561849e-03\n",
       "2.985904          0.933732             0.935292 -1.560084e-03\n",
       "2.997952          0.934480             0.936038 -1.558241e-03\n",
       "3.010000          0.935221             0.936778 -1.556318e-03\n",
       "\n",
       "[250 rows x 3 columns]"
      ]
     },
     "execution_count": 46,
     "metadata": {},
     "output_type": "execute_result"
    }
   ],
   "source": [
    "# For different values of volatility(calculation was done in a previous cell)\n",
    "\n",
    "df_deltas['Difference'] = df_deltas['Binomial Delta'] - df_deltas['Black Scholes Delta']\n",
    "\n",
    "df_deltas"
   ]
  },
  {
   "cell_type": "code",
   "execution_count": 49,
   "metadata": {},
   "outputs": [
    {
     "name": "stderr",
     "output_type": "stream",
     "text": [
      "No handles with labels found to put in legend.\n"
     ]
    },
    {
     "data": {
      "text/plain": [
       "Text(0.5, 1.0, 'Change in Delta for different Volatilities')"
      ]
     },
     "execution_count": 49,
     "metadata": {},
     "output_type": "execute_result"
    },
    {
     "data": {
      "image/png": "[encoded data removed]",
      "text/plain": [
       "<Figure size 432x288 with 1 Axes>"
      ]
     },
     "metadata": {},
     "output_type": "display_data"
    }
   ],
   "source": [
    "plt.plot(df_deltas['Black Scholes Delta'])\n",
    "plt.ylabel('Delta')\n",
    "plt.xlabel('Volatility')\n",
    "plt.legend()\n",
    "plt.title('Change in Delta for different Volatilities')\n",
    "\n",
    "\n"
   ]
  },
  {
   "cell_type": "markdown",
   "metadata": {},
   "source": [
    "### American\n"
   ]
  },
  {
   "cell_type": "code",
   "execution_count": 59,
   "metadata": {},
   "outputs": [
    {
     "name": "stdout",
     "output_type": "stream",
     "text": [
      "Price comparison between european and american options: \n",
      " Put option price: American = 5.347763498417651 , European = 4.781123675595922 \n",
      " Call option price: American = 11.546434850755071 , European = 11.546434850755071\n"
     ]
    }
   ],
   "source": [
    "        \n",
    "sigma = 0.2\n",
    "stock_price_T0 = 100\n",
    "T = 1\n",
    "N = 50\n",
    "strike_price = 99\n",
    "r = 0.06\n",
    "\n",
    "\n",
    "\n",
    "tree_eu = european_binomial_tree.buildTree(stock_price_T0, sigma, T, N)\n",
    "tree_am = american_binomial_tree.buildTree(stock_price_T0, sigma, T, N)\n",
    "\n",
    "\n",
    "option_worth_eu_put=european_binomial_tree.valueEuropeanOptionMatrix(tree_eu, T, r, strike_price,N, sigma, option_type = \"Put\")\n",
    "option_worth_am_put=american_binomial_tree.valueAmericanOptionMatrix(tree_am, T, r, strike_price,N, sigma, option_type = \"Put\")\n",
    "option_worth_eu_call=european_binomial_tree.valueEuropeanOptionMatrix(tree_eu, T, r, strike_price,N, sigma, option_type = \"Call\")\n",
    "option_worth_am_call=american_binomial_tree.valueAmericanOptionMatrix(tree_am, T, r, strike_price,N, sigma, option_type = \"Call\")\n",
    "\n",
    "\n",
    "\n",
    "# f'exact soltion: {x_exact} \\n' \n",
    "print(f\"Price comparison between european and american options: \\n Put option price: American = {option_worth_am_put[0][0]} , European = {option_worth_eu_put[0][0]} \\n Call option price: American = {option_worth_am_call[0][0]} , European = {option_worth_eu_call[0][0]}\")\n"
   ]
  },
  {
   "cell_type": "code",
   "execution_count": null,
   "metadata": {},
   "outputs": [],
   "source": []
  }
 ],
 "metadata": {
  "interpreter": {
   "hash": "f7ec9a7c2b0fd9ff1ec29775124bd049615416a7becdaca4b9812c5801bc9cc5"
  },
  "kernelspec": {
   "display_name": "Python 3 (ipykernel)",
   "language": "python",
   "name": "python3"
  },
  "language_info": {
   "codemirror_mode": {
    "name": "ipython",
    "version": 3
   },
   "file_extension": ".py",
   "mimetype": "text/x-python",
   "name": "python",
   "nbconvert_exporter": "python",
   "pygments_lexer": "ipython3",
   "version": "3.8.3"
  }
 },
 "nbformat": 4,
 "nbformat_minor": 2
}
